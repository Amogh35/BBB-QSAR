{
 "cells": [
  {
   "cell_type": "markdown",
   "metadata": {
    "collapsed": true
   },
   "source": [
    "### QSAR Models for Blood Brain Barrier (BBB)"
   ]
  },
  {
   "cell_type": "code",
   "execution_count": 310,
   "metadata": {},
   "outputs": [],
   "source": [
    "import rdkit"
   ]
  },
  {
   "cell_type": "code",
   "execution_count": 311,
   "metadata": {},
   "outputs": [],
   "source": [
    "from rdkit import Chem, DataStructs\n",
    "from rdkit.Chem import AllChem, Descriptors"
   ]
  },
  {
   "cell_type": "code",
   "execution_count": 312,
   "metadata": {},
   "outputs": [],
   "source": [
    "# Run the following three lines of code if you want to check and explore how some of the molecules in the dataset actually look like\n",
    "\n",
    "\n",
    "# from rdkit.Chem.Draw import IPythonConsole\n",
    "# from rdkit.Chem import Draw\n",
    "# IPythonConsole.ipython_useSVG=True\n",
    "\n",
    "# set the last line of code to False if you want PNGs instead of SVGs"
   ]
  },
  {
   "cell_type": "code",
   "execution_count": 313,
   "metadata": {},
   "outputs": [],
   "source": [
    "import numpy as np\n",
    "from sklearn.svm import SVC\n",
    "from sklearn.ensemble import RandomForestClassifier, GradientBoostingClassifier\n",
    "from sklearn.model_selection import train_test_split, StratifiedKFold, GridSearchCV\n",
    "from sklearn.preprocessing import StandardScaler\n",
    "from sklearn.metrics import accuracy_score, cohen_kappa_score, matthews_corrcoef"
   ]
  },
  {
   "cell_type": "code",
   "execution_count": 314,
   "metadata": {},
   "outputs": [],
   "source": [
    "#import joblib for compressing and saving some of the models and datasets\n",
    "import joblib"
   ]
  },
  {
   "cell_type": "markdown",
   "metadata": {},
   "source": [
    "#### Reading molecules and activity from SDF"
   ]
  },
  {
   "cell_type": "code",
   "execution_count": 315,
   "metadata": {},
   "outputs": [],
   "source": [
    "# we read the SDF file and make a list of molecules in mols and a list of their activity (logBB) in y\n",
    "\n",
    "mols = []\n",
    "y = []\n",
    "for mol in Chem.SDMolSupplier(\"logBB.sdf\"):\n",
    "    if mol is not None:\n",
    "        mols.append(mol)\n",
    "        y.append(mol.GetIntProp(\"logBB_class\"))"
   ]
  },
  {
   "cell_type": "markdown",
   "metadata": {},
   "source": [
    "#### Calculate descriptors (fingerprints) and convert them into numpy array"
   ]
  },
  {
   "cell_type": "code",
   "execution_count": 316,
   "metadata": {},
   "outputs": [],
   "source": [
    "# generate binary Morgan fingerprint with radius 2 for each molecule\n",
    "fp = [AllChem.GetMorganFingerprintAsBitVect(m, 2) for m in mols]"
   ]
  },
  {
   "cell_type": "code",
   "execution_count": 317,
   "metadata": {},
   "outputs": [
    {
     "data": {
      "text/plain": [
       "[<rdkit.DataStructs.cDataStructs.ExplicitBitVect at 0x2724e427800>,\n",
       " <rdkit.DataStructs.cDataStructs.ExplicitBitVect at 0x2724e4270d0>,\n",
       " <rdkit.DataStructs.cDataStructs.ExplicitBitVect at 0x2724e427c60>,\n",
       " <rdkit.DataStructs.cDataStructs.ExplicitBitVect at 0x2724e427ad0>,\n",
       " <rdkit.DataStructs.cDataStructs.ExplicitBitVect at 0x2724e427670>,\n",
       " <rdkit.DataStructs.cDataStructs.ExplicitBitVect at 0x2724e427490>,\n",
       " <rdkit.DataStructs.cDataStructs.ExplicitBitVect at 0x2724e427a80>,\n",
       " <rdkit.DataStructs.cDataStructs.ExplicitBitVect at 0x2724e4278f0>,\n",
       " <rdkit.DataStructs.cDataStructs.ExplicitBitVect at 0x2724e427710>,\n",
       " <rdkit.DataStructs.cDataStructs.ExplicitBitVect at 0x2724e427760>,\n",
       " <rdkit.DataStructs.cDataStructs.ExplicitBitVect at 0x2724e427120>,\n",
       " <rdkit.DataStructs.cDataStructs.ExplicitBitVect at 0x2724e4275d0>,\n",
       " <rdkit.DataStructs.cDataStructs.ExplicitBitVect at 0x2724e4276c0>,\n",
       " <rdkit.DataStructs.cDataStructs.ExplicitBitVect at 0x2724e427530>,\n",
       " <rdkit.DataStructs.cDataStructs.ExplicitBitVect at 0x2724e427080>,\n",
       " <rdkit.DataStructs.cDataStructs.ExplicitBitVect at 0x2724e4273a0>,\n",
       " <rdkit.DataStructs.cDataStructs.ExplicitBitVect at 0x2724e4274e0>,\n",
       " <rdkit.DataStructs.cDataStructs.ExplicitBitVect at 0x2724e427030>,\n",
       " <rdkit.DataStructs.cDataStructs.ExplicitBitVect at 0x2724e595440>,\n",
       " <rdkit.DataStructs.cDataStructs.ExplicitBitVect at 0x2724e595620>,\n",
       " <rdkit.DataStructs.cDataStructs.ExplicitBitVect at 0x2724e595c10>,\n",
       " <rdkit.DataStructs.cDataStructs.ExplicitBitVect at 0x2724e5950d0>,\n",
       " <rdkit.DataStructs.cDataStructs.ExplicitBitVect at 0x2724e5953f0>,\n",
       " <rdkit.DataStructs.cDataStructs.ExplicitBitVect at 0x2724e595e40>,\n",
       " <rdkit.DataStructs.cDataStructs.ExplicitBitVect at 0x2724e595bc0>,\n",
       " <rdkit.DataStructs.cDataStructs.ExplicitBitVect at 0x2724e595030>,\n",
       " <rdkit.DataStructs.cDataStructs.ExplicitBitVect at 0x2724e595e90>,\n",
       " <rdkit.DataStructs.cDataStructs.ExplicitBitVect at 0x2724e595080>,\n",
       " <rdkit.DataStructs.cDataStructs.ExplicitBitVect at 0x2724e595c60>,\n",
       " <rdkit.DataStructs.cDataStructs.ExplicitBitVect at 0x2724e595800>,\n",
       " <rdkit.DataStructs.cDataStructs.ExplicitBitVect at 0x2724e595760>,\n",
       " <rdkit.DataStructs.cDataStructs.ExplicitBitVect at 0x2724e5957b0>,\n",
       " <rdkit.DataStructs.cDataStructs.ExplicitBitVect at 0x2724e595170>,\n",
       " <rdkit.DataStructs.cDataStructs.ExplicitBitVect at 0x2724e595ee0>,\n",
       " <rdkit.DataStructs.cDataStructs.ExplicitBitVect at 0x2724e595da0>,\n",
       " <rdkit.DataStructs.cDataStructs.ExplicitBitVect at 0x2724e595580>,\n",
       " <rdkit.DataStructs.cDataStructs.ExplicitBitVect at 0x2724e595490>,\n",
       " <rdkit.DataStructs.cDataStructs.ExplicitBitVect at 0x2724e595120>,\n",
       " <rdkit.DataStructs.cDataStructs.ExplicitBitVect at 0x2724e595b70>,\n",
       " <rdkit.DataStructs.cDataStructs.ExplicitBitVect at 0x2724e595850>,\n",
       " <rdkit.DataStructs.cDataStructs.ExplicitBitVect at 0x2724e595d00>,\n",
       " <rdkit.DataStructs.cDataStructs.ExplicitBitVect at 0x2724e595940>,\n",
       " <rdkit.DataStructs.cDataStructs.ExplicitBitVect at 0x2724e430580>,\n",
       " <rdkit.DataStructs.cDataStructs.ExplicitBitVect at 0x2724e430f30>,\n",
       " <rdkit.DataStructs.cDataStructs.ExplicitBitVect at 0x2724e430940>,\n",
       " <rdkit.DataStructs.cDataStructs.ExplicitBitVect at 0x2724e430490>,\n",
       " <rdkit.DataStructs.cDataStructs.ExplicitBitVect at 0x2724e4300d0>,\n",
       " <rdkit.DataStructs.cDataStructs.ExplicitBitVect at 0x2724e4303f0>,\n",
       " <rdkit.DataStructs.cDataStructs.ExplicitBitVect at 0x2724e4307b0>,\n",
       " <rdkit.DataStructs.cDataStructs.ExplicitBitVect at 0x2724e430d00>,\n",
       " <rdkit.DataStructs.cDataStructs.ExplicitBitVect at 0x2724e430210>,\n",
       " <rdkit.DataStructs.cDataStructs.ExplicitBitVect at 0x2724e4309e0>,\n",
       " <rdkit.DataStructs.cDataStructs.ExplicitBitVect at 0x2724e430990>,\n",
       " <rdkit.DataStructs.cDataStructs.ExplicitBitVect at 0x2724e430df0>,\n",
       " <rdkit.DataStructs.cDataStructs.ExplicitBitVect at 0x2724e430d50>,\n",
       " <rdkit.DataStructs.cDataStructs.ExplicitBitVect at 0x2724e430440>,\n",
       " <rdkit.DataStructs.cDataStructs.ExplicitBitVect at 0x2724e4303a0>,\n",
       " <rdkit.DataStructs.cDataStructs.ExplicitBitVect at 0x2724e430c10>,\n",
       " <rdkit.DataStructs.cDataStructs.ExplicitBitVect at 0x2724e430080>,\n",
       " <rdkit.DataStructs.cDataStructs.ExplicitBitVect at 0x2724e4094e0>,\n",
       " <rdkit.DataStructs.cDataStructs.ExplicitBitVect at 0x2724e409260>,\n",
       " <rdkit.DataStructs.cDataStructs.ExplicitBitVect at 0x2724e4098f0>,\n",
       " <rdkit.DataStructs.cDataStructs.ExplicitBitVect at 0x2724e409bc0>,\n",
       " <rdkit.DataStructs.cDataStructs.ExplicitBitVect at 0x2724e409210>,\n",
       " <rdkit.DataStructs.cDataStructs.ExplicitBitVect at 0x2724e409760>,\n",
       " <rdkit.DataStructs.cDataStructs.ExplicitBitVect at 0x2724e409ee0>,\n",
       " <rdkit.DataStructs.cDataStructs.ExplicitBitVect at 0x2724e409850>,\n",
       " <rdkit.DataStructs.cDataStructs.ExplicitBitVect at 0x2724e409620>,\n",
       " <rdkit.DataStructs.cDataStructs.ExplicitBitVect at 0x2724e409d00>,\n",
       " <rdkit.DataStructs.cDataStructs.ExplicitBitVect at 0x2724e409800>,\n",
       " <rdkit.DataStructs.cDataStructs.ExplicitBitVect at 0x2724e409d50>,\n",
       " <rdkit.DataStructs.cDataStructs.ExplicitBitVect at 0x2724e409f30>,\n",
       " <rdkit.DataStructs.cDataStructs.ExplicitBitVect at 0x2724e409490>,\n",
       " <rdkit.DataStructs.cDataStructs.ExplicitBitVect at 0x2724e4096c0>,\n",
       " <rdkit.DataStructs.cDataStructs.ExplicitBitVect at 0x2724e409c60>,\n",
       " <rdkit.DataStructs.cDataStructs.ExplicitBitVect at 0x2724e409440>,\n",
       " <rdkit.DataStructs.cDataStructs.ExplicitBitVect at 0x2724e409670>,\n",
       " <rdkit.DataStructs.cDataStructs.ExplicitBitVect at 0x2724e409350>,\n",
       " <rdkit.DataStructs.cDataStructs.ExplicitBitVect at 0x2724e4092b0>,\n",
       " <rdkit.DataStructs.cDataStructs.ExplicitBitVect at 0x2724e409710>,\n",
       " <rdkit.DataStructs.cDataStructs.ExplicitBitVect at 0x2724e409170>,\n",
       " <rdkit.DataStructs.cDataStructs.ExplicitBitVect at 0x2724e409a80>,\n",
       " <rdkit.DataStructs.cDataStructs.ExplicitBitVect at 0x2724e409940>,\n",
       " <rdkit.DataStructs.cDataStructs.ExplicitBitVect at 0x2724e4091c0>,\n",
       " <rdkit.DataStructs.cDataStructs.ExplicitBitVect at 0x2724e4093f0>,\n",
       " <rdkit.DataStructs.cDataStructs.ExplicitBitVect at 0x2724e3fb3a0>,\n",
       " <rdkit.DataStructs.cDataStructs.ExplicitBitVect at 0x2724e3fbbc0>,\n",
       " <rdkit.DataStructs.cDataStructs.ExplicitBitVect at 0x2724e402300>,\n",
       " <rdkit.DataStructs.cDataStructs.ExplicitBitVect at 0x2724e3ff620>,\n",
       " <rdkit.DataStructs.cDataStructs.ExplicitBitVect at 0x2724e3ff300>,\n",
       " <rdkit.DataStructs.cDataStructs.ExplicitBitVect at 0x2724e3fff80>,\n",
       " <rdkit.DataStructs.cDataStructs.ExplicitBitVect at 0x2724e3ff3f0>,\n",
       " <rdkit.DataStructs.cDataStructs.ExplicitBitVect at 0x2724e3ff120>,\n",
       " <rdkit.DataStructs.cDataStructs.ExplicitBitVect at 0x2724e5cd3a0>,\n",
       " <rdkit.DataStructs.cDataStructs.ExplicitBitVect at 0x2724e5cdbc0>,\n",
       " <rdkit.DataStructs.cDataStructs.ExplicitBitVect at 0x2724e5cd3f0>,\n",
       " <rdkit.DataStructs.cDataStructs.ExplicitBitVect at 0x2724e5cd2b0>,\n",
       " <rdkit.DataStructs.cDataStructs.ExplicitBitVect at 0x2724e5cd6c0>,\n",
       " <rdkit.DataStructs.cDataStructs.ExplicitBitVect at 0x2724e5cd800>,\n",
       " <rdkit.DataStructs.cDataStructs.ExplicitBitVect at 0x2724e438cb0>,\n",
       " <rdkit.DataStructs.cDataStructs.ExplicitBitVect at 0x2724e4384e0>,\n",
       " <rdkit.DataStructs.cDataStructs.ExplicitBitVect at 0x2724e438b20>,\n",
       " <rdkit.DataStructs.cDataStructs.ExplicitBitVect at 0x2724e438f80>,\n",
       " <rdkit.DataStructs.cDataStructs.ExplicitBitVect at 0x2724e438d00>,\n",
       " <rdkit.DataStructs.cDataStructs.ExplicitBitVect at 0x2724e438da0>,\n",
       " <rdkit.DataStructs.cDataStructs.ExplicitBitVect at 0x2724e438120>,\n",
       " <rdkit.DataStructs.cDataStructs.ExplicitBitVect at 0x2724e4380d0>,\n",
       " <rdkit.DataStructs.cDataStructs.ExplicitBitVect at 0x2724e4387b0>,\n",
       " <rdkit.DataStructs.cDataStructs.ExplicitBitVect at 0x2724e438a30>,\n",
       " <rdkit.DataStructs.cDataStructs.ExplicitBitVect at 0x2724e438580>,\n",
       " <rdkit.DataStructs.cDataStructs.ExplicitBitVect at 0x2724e4385d0>,\n",
       " <rdkit.DataStructs.cDataStructs.ExplicitBitVect at 0x2724e438300>,\n",
       " <rdkit.DataStructs.cDataStructs.ExplicitBitVect at 0x2724e4141c0>,\n",
       " <rdkit.DataStructs.cDataStructs.ExplicitBitVect at 0x2724e414210>,\n",
       " <rdkit.DataStructs.cDataStructs.ExplicitBitVect at 0x2724e414ee0>,\n",
       " <rdkit.DataStructs.cDataStructs.ExplicitBitVect at 0x2724e4145d0>,\n",
       " <rdkit.DataStructs.cDataStructs.ExplicitBitVect at 0x2724e414120>,\n",
       " <rdkit.DataStructs.cDataStructs.ExplicitBitVect at 0x2724e414e40>,\n",
       " <rdkit.DataStructs.cDataStructs.ExplicitBitVect at 0x2724e414e90>,\n",
       " <rdkit.DataStructs.cDataStructs.ExplicitBitVect at 0x2724e414800>,\n",
       " <rdkit.DataStructs.cDataStructs.ExplicitBitVect at 0x2724e414f30>,\n",
       " <rdkit.DataStructs.cDataStructs.ExplicitBitVect at 0x2724e414d50>,\n",
       " <rdkit.DataStructs.cDataStructs.ExplicitBitVect at 0x2724e4149e0>,\n",
       " <rdkit.DataStructs.cDataStructs.ExplicitBitVect at 0x2724e4147b0>,\n",
       " <rdkit.DataStructs.cDataStructs.ExplicitBitVect at 0x2724e414940>,\n",
       " <rdkit.DataStructs.cDataStructs.ExplicitBitVect at 0x2724e414530>,\n",
       " <rdkit.DataStructs.cDataStructs.ExplicitBitVect at 0x2724e414490>,\n",
       " <rdkit.DataStructs.cDataStructs.ExplicitBitVect at 0x2724e414b70>,\n",
       " <rdkit.DataStructs.cDataStructs.ExplicitBitVect at 0x2724e414710>,\n",
       " <rdkit.DataStructs.cDataStructs.ExplicitBitVect at 0x2724e4143f0>,\n",
       " <rdkit.DataStructs.cDataStructs.ExplicitBitVect at 0x2724e4148f0>,\n",
       " <rdkit.DataStructs.cDataStructs.ExplicitBitVect at 0x2724e4146c0>,\n",
       " <rdkit.DataStructs.cDataStructs.ExplicitBitVect at 0x2724e414670>,\n",
       " <rdkit.DataStructs.cDataStructs.ExplicitBitVect at 0x2724e414170>,\n",
       " <rdkit.DataStructs.cDataStructs.ExplicitBitVect at 0x2724e48b850>,\n",
       " <rdkit.DataStructs.cDataStructs.ExplicitBitVect at 0x2724e48b2b0>,\n",
       " <rdkit.DataStructs.cDataStructs.ExplicitBitVect at 0x2724e48ba80>,\n",
       " <rdkit.DataStructs.cDataStructs.ExplicitBitVect at 0x2724e48b5d0>,\n",
       " <rdkit.DataStructs.cDataStructs.ExplicitBitVect at 0x2724e48b4e0>,\n",
       " <rdkit.DataStructs.cDataStructs.ExplicitBitVect at 0x2724e48b530>,\n",
       " <rdkit.DataStructs.cDataStructs.ExplicitBitVect at 0x2724e48bad0>,\n",
       " <rdkit.DataStructs.cDataStructs.ExplicitBitVect at 0x2724e48b620>,\n",
       " <rdkit.DataStructs.cDataStructs.ExplicitBitVect at 0x2724e48b3f0>,\n",
       " <rdkit.DataStructs.cDataStructs.ExplicitBitVect at 0x2724e48b580>,\n",
       " <rdkit.DataStructs.cDataStructs.ExplicitBitVect at 0x2724e48b490>,\n",
       " <rdkit.DataStructs.cDataStructs.ExplicitBitVect at 0x2724e48b350>,\n",
       " <rdkit.DataStructs.cDataStructs.ExplicitBitVect at 0x2724e48b300>,\n",
       " <rdkit.DataStructs.cDataStructs.ExplicitBitVect at 0x2724e48b800>,\n",
       " <rdkit.DataStructs.cDataStructs.ExplicitBitVect at 0x2724e48b8a0>,\n",
       " <rdkit.DataStructs.cDataStructs.ExplicitBitVect at 0x2724e48b8f0>,\n",
       " <rdkit.DataStructs.cDataStructs.ExplicitBitVect at 0x2724e48b7b0>,\n",
       " <rdkit.DataStructs.cDataStructs.ExplicitBitVect at 0x2724e48b940>,\n",
       " <rdkit.DataStructs.cDataStructs.ExplicitBitVect at 0x2724e48b990>,\n",
       " <rdkit.DataStructs.cDataStructs.ExplicitBitVect at 0x2724e48b9e0>,\n",
       " <rdkit.DataStructs.cDataStructs.ExplicitBitVect at 0x2724e48ba30>,\n",
       " <rdkit.DataStructs.cDataStructs.ExplicitBitVect at 0x2724e48b440>,\n",
       " <rdkit.DataStructs.cDataStructs.ExplicitBitVect at 0x2724e48b670>,\n",
       " <rdkit.DataStructs.cDataStructs.ExplicitBitVect at 0x2724e48bb20>,\n",
       " <rdkit.DataStructs.cDataStructs.ExplicitBitVect at 0x2724e48bb70>,\n",
       " <rdkit.DataStructs.cDataStructs.ExplicitBitVect at 0x2724e48bbc0>,\n",
       " <rdkit.DataStructs.cDataStructs.ExplicitBitVect at 0x2724e48bc10>,\n",
       " <rdkit.DataStructs.cDataStructs.ExplicitBitVect at 0x2724e48bc60>,\n",
       " <rdkit.DataStructs.cDataStructs.ExplicitBitVect at 0x2724e48bcb0>,\n",
       " <rdkit.DataStructs.cDataStructs.ExplicitBitVect at 0x2724e48bd00>,\n",
       " <rdkit.DataStructs.cDataStructs.ExplicitBitVect at 0x2724e48bd50>,\n",
       " <rdkit.DataStructs.cDataStructs.ExplicitBitVect at 0x2724e48bda0>,\n",
       " <rdkit.DataStructs.cDataStructs.ExplicitBitVect at 0x2724e48bdf0>,\n",
       " <rdkit.DataStructs.cDataStructs.ExplicitBitVect at 0x2724e48be40>,\n",
       " <rdkit.DataStructs.cDataStructs.ExplicitBitVect at 0x2724e48be90>,\n",
       " <rdkit.DataStructs.cDataStructs.ExplicitBitVect at 0x2724e48bee0>,\n",
       " <rdkit.DataStructs.cDataStructs.ExplicitBitVect at 0x2724e48bf30>,\n",
       " <rdkit.DataStructs.cDataStructs.ExplicitBitVect at 0x2724e48bf80>,\n",
       " <rdkit.DataStructs.cDataStructs.ExplicitBitVect at 0x2724e4690d0>,\n",
       " <rdkit.DataStructs.cDataStructs.ExplicitBitVect at 0x2724e469440>,\n",
       " <rdkit.DataStructs.cDataStructs.ExplicitBitVect at 0x2724e4693f0>,\n",
       " <rdkit.DataStructs.cDataStructs.ExplicitBitVect at 0x2724e4696c0>,\n",
       " <rdkit.DataStructs.cDataStructs.ExplicitBitVect at 0x2724e469c60>,\n",
       " <rdkit.DataStructs.cDataStructs.ExplicitBitVect at 0x2724e469f30>,\n",
       " <rdkit.DataStructs.cDataStructs.ExplicitBitVect at 0x2724e469a30>,\n",
       " <rdkit.DataStructs.cDataStructs.ExplicitBitVect at 0x2724e469b20>,\n",
       " <rdkit.DataStructs.cDataStructs.ExplicitBitVect at 0x2724e469ee0>,\n",
       " <rdkit.DataStructs.cDataStructs.ExplicitBitVect at 0x2724e469ad0>,\n",
       " <rdkit.DataStructs.cDataStructs.ExplicitBitVect at 0x2724e469da0>,\n",
       " <rdkit.DataStructs.cDataStructs.ExplicitBitVect at 0x2724e469c10>,\n",
       " <rdkit.DataStructs.cDataStructs.ExplicitBitVect at 0x2724e469e90>,\n",
       " <rdkit.DataStructs.cDataStructs.ExplicitBitVect at 0x2724e48e030>,\n",
       " <rdkit.DataStructs.cDataStructs.ExplicitBitVect at 0x2724e48e080>,\n",
       " <rdkit.DataStructs.cDataStructs.ExplicitBitVect at 0x2724e48e0d0>,\n",
       " <rdkit.DataStructs.cDataStructs.ExplicitBitVect at 0x2724e48e120>,\n",
       " <rdkit.DataStructs.cDataStructs.ExplicitBitVect at 0x2724e48e170>,\n",
       " <rdkit.DataStructs.cDataStructs.ExplicitBitVect at 0x2724e48e1c0>,\n",
       " <rdkit.DataStructs.cDataStructs.ExplicitBitVect at 0x2724e48e210>,\n",
       " <rdkit.DataStructs.cDataStructs.ExplicitBitVect at 0x2724e48e260>,\n",
       " <rdkit.DataStructs.cDataStructs.ExplicitBitVect at 0x2724e48e2b0>,\n",
       " <rdkit.DataStructs.cDataStructs.ExplicitBitVect at 0x2724e48e300>,\n",
       " <rdkit.DataStructs.cDataStructs.ExplicitBitVect at 0x2724e48e350>,\n",
       " <rdkit.DataStructs.cDataStructs.ExplicitBitVect at 0x2724e48e3a0>,\n",
       " <rdkit.DataStructs.cDataStructs.ExplicitBitVect at 0x2724e48e3f0>,\n",
       " <rdkit.DataStructs.cDataStructs.ExplicitBitVect at 0x2724e48e440>,\n",
       " <rdkit.DataStructs.cDataStructs.ExplicitBitVect at 0x2724e48e490>,\n",
       " <rdkit.DataStructs.cDataStructs.ExplicitBitVect at 0x2724e48e4e0>,\n",
       " <rdkit.DataStructs.cDataStructs.ExplicitBitVect at 0x2724e48e530>,\n",
       " <rdkit.DataStructs.cDataStructs.ExplicitBitVect at 0x2724e48e580>,\n",
       " <rdkit.DataStructs.cDataStructs.ExplicitBitVect at 0x2724e48e5d0>,\n",
       " <rdkit.DataStructs.cDataStructs.ExplicitBitVect at 0x2724e48e620>,\n",
       " <rdkit.DataStructs.cDataStructs.ExplicitBitVect at 0x2724e48e670>,\n",
       " <rdkit.DataStructs.cDataStructs.ExplicitBitVect at 0x2724e48e6c0>,\n",
       " <rdkit.DataStructs.cDataStructs.ExplicitBitVect at 0x2724e48e710>,\n",
       " <rdkit.DataStructs.cDataStructs.ExplicitBitVect at 0x2724e48e760>,\n",
       " <rdkit.DataStructs.cDataStructs.ExplicitBitVect at 0x2724e48e7b0>,\n",
       " <rdkit.DataStructs.cDataStructs.ExplicitBitVect at 0x2724e48e800>,\n",
       " <rdkit.DataStructs.cDataStructs.ExplicitBitVect at 0x2724e48e850>,\n",
       " <rdkit.DataStructs.cDataStructs.ExplicitBitVect at 0x2724e48e8a0>,\n",
       " <rdkit.DataStructs.cDataStructs.ExplicitBitVect at 0x2724e48e8f0>,\n",
       " <rdkit.DataStructs.cDataStructs.ExplicitBitVect at 0x2724e48e940>,\n",
       " <rdkit.DataStructs.cDataStructs.ExplicitBitVect at 0x2724e48e990>,\n",
       " <rdkit.DataStructs.cDataStructs.ExplicitBitVect at 0x2724e48e9e0>,\n",
       " <rdkit.DataStructs.cDataStructs.ExplicitBitVect at 0x2724e48ea30>,\n",
       " <rdkit.DataStructs.cDataStructs.ExplicitBitVect at 0x2724e48ea80>,\n",
       " <rdkit.DataStructs.cDataStructs.ExplicitBitVect at 0x2724e48ead0>,\n",
       " <rdkit.DataStructs.cDataStructs.ExplicitBitVect at 0x2724e48eb20>,\n",
       " <rdkit.DataStructs.cDataStructs.ExplicitBitVect at 0x2724e48eb70>,\n",
       " <rdkit.DataStructs.cDataStructs.ExplicitBitVect at 0x2724e48ebc0>,\n",
       " <rdkit.DataStructs.cDataStructs.ExplicitBitVect at 0x2724e48ec10>,\n",
       " <rdkit.DataStructs.cDataStructs.ExplicitBitVect at 0x2724e48ec60>,\n",
       " <rdkit.DataStructs.cDataStructs.ExplicitBitVect at 0x2724e48ecb0>,\n",
       " <rdkit.DataStructs.cDataStructs.ExplicitBitVect at 0x2724e48ed00>,\n",
       " <rdkit.DataStructs.cDataStructs.ExplicitBitVect at 0x2724e48ed50>,\n",
       " <rdkit.DataStructs.cDataStructs.ExplicitBitVect at 0x2724e48eda0>,\n",
       " <rdkit.DataStructs.cDataStructs.ExplicitBitVect at 0x2724e48edf0>,\n",
       " <rdkit.DataStructs.cDataStructs.ExplicitBitVect at 0x2724e48ee40>,\n",
       " <rdkit.DataStructs.cDataStructs.ExplicitBitVect at 0x2724e48ee90>,\n",
       " <rdkit.DataStructs.cDataStructs.ExplicitBitVect at 0x2724e48eee0>,\n",
       " <rdkit.DataStructs.cDataStructs.ExplicitBitVect at 0x2724e48ef30>,\n",
       " <rdkit.DataStructs.cDataStructs.ExplicitBitVect at 0x2724e48ef80>,\n",
       " <rdkit.DataStructs.cDataStructs.ExplicitBitVect at 0x2724e47f030>,\n",
       " <rdkit.DataStructs.cDataStructs.ExplicitBitVect at 0x2724e47f080>,\n",
       " <rdkit.DataStructs.cDataStructs.ExplicitBitVect at 0x2724e47f0d0>,\n",
       " <rdkit.DataStructs.cDataStructs.ExplicitBitVect at 0x2724e47f120>,\n",
       " <rdkit.DataStructs.cDataStructs.ExplicitBitVect at 0x2724e47f170>,\n",
       " <rdkit.DataStructs.cDataStructs.ExplicitBitVect at 0x2724e47f1c0>,\n",
       " <rdkit.DataStructs.cDataStructs.ExplicitBitVect at 0x2724e47f210>,\n",
       " <rdkit.DataStructs.cDataStructs.ExplicitBitVect at 0x2724e47f260>,\n",
       " <rdkit.DataStructs.cDataStructs.ExplicitBitVect at 0x2724e47f2b0>,\n",
       " <rdkit.DataStructs.cDataStructs.ExplicitBitVect at 0x2724e47f300>,\n",
       " <rdkit.DataStructs.cDataStructs.ExplicitBitVect at 0x2724e47f350>,\n",
       " <rdkit.DataStructs.cDataStructs.ExplicitBitVect at 0x2724e47f3a0>,\n",
       " <rdkit.DataStructs.cDataStructs.ExplicitBitVect at 0x2724e47f3f0>,\n",
       " <rdkit.DataStructs.cDataStructs.ExplicitBitVect at 0x2724e47f440>,\n",
       " <rdkit.DataStructs.cDataStructs.ExplicitBitVect at 0x2724e47f530>,\n",
       " <rdkit.DataStructs.cDataStructs.ExplicitBitVect at 0x2724e47f580>,\n",
       " <rdkit.DataStructs.cDataStructs.ExplicitBitVect at 0x2724e47f5d0>,\n",
       " <rdkit.DataStructs.cDataStructs.ExplicitBitVect at 0x2724e47f620>,\n",
       " <rdkit.DataStructs.cDataStructs.ExplicitBitVect at 0x2724e47f670>,\n",
       " <rdkit.DataStructs.cDataStructs.ExplicitBitVect at 0x2724e47f6c0>,\n",
       " <rdkit.DataStructs.cDataStructs.ExplicitBitVect at 0x2724e47f710>,\n",
       " <rdkit.DataStructs.cDataStructs.ExplicitBitVect at 0x2724e47f760>,\n",
       " <rdkit.DataStructs.cDataStructs.ExplicitBitVect at 0x2724e47f7b0>,\n",
       " <rdkit.DataStructs.cDataStructs.ExplicitBitVect at 0x2724e47f800>,\n",
       " <rdkit.DataStructs.cDataStructs.ExplicitBitVect at 0x2724e47f850>,\n",
       " <rdkit.DataStructs.cDataStructs.ExplicitBitVect at 0x2724e47f8a0>,\n",
       " <rdkit.DataStructs.cDataStructs.ExplicitBitVect at 0x2724e47f8f0>,\n",
       " <rdkit.DataStructs.cDataStructs.ExplicitBitVect at 0x2724e47f940>,\n",
       " <rdkit.DataStructs.cDataStructs.ExplicitBitVect at 0x2724e47f990>,\n",
       " <rdkit.DataStructs.cDataStructs.ExplicitBitVect at 0x2724e47f9e0>,\n",
       " <rdkit.DataStructs.cDataStructs.ExplicitBitVect at 0x2724e47fa30>,\n",
       " <rdkit.DataStructs.cDataStructs.ExplicitBitVect at 0x2724e47fa80>,\n",
       " <rdkit.DataStructs.cDataStructs.ExplicitBitVect at 0x2724e47fad0>,\n",
       " <rdkit.DataStructs.cDataStructs.ExplicitBitVect at 0x2724e47fb20>,\n",
       " <rdkit.DataStructs.cDataStructs.ExplicitBitVect at 0x2724e47fb70>,\n",
       " <rdkit.DataStructs.cDataStructs.ExplicitBitVect at 0x2724e47fbc0>,\n",
       " <rdkit.DataStructs.cDataStructs.ExplicitBitVect at 0x2724e47fc10>,\n",
       " <rdkit.DataStructs.cDataStructs.ExplicitBitVect at 0x2724e47fc60>,\n",
       " <rdkit.DataStructs.cDataStructs.ExplicitBitVect at 0x2724e47fcb0>,\n",
       " <rdkit.DataStructs.cDataStructs.ExplicitBitVect at 0x2724e47fd00>,\n",
       " <rdkit.DataStructs.cDataStructs.ExplicitBitVect at 0x2724e47fd50>,\n",
       " <rdkit.DataStructs.cDataStructs.ExplicitBitVect at 0x2724e47fda0>,\n",
       " <rdkit.DataStructs.cDataStructs.ExplicitBitVect at 0x2724e47fdf0>,\n",
       " <rdkit.DataStructs.cDataStructs.ExplicitBitVect at 0x2724e47fe40>,\n",
       " <rdkit.DataStructs.cDataStructs.ExplicitBitVect at 0x2724e47fe90>,\n",
       " <rdkit.DataStructs.cDataStructs.ExplicitBitVect at 0x2724e47fee0>,\n",
       " <rdkit.DataStructs.cDataStructs.ExplicitBitVect at 0x2724e47ff30>,\n",
       " <rdkit.DataStructs.cDataStructs.ExplicitBitVect at 0x2724e47ff80>,\n",
       " <rdkit.DataStructs.cDataStructs.ExplicitBitVect at 0x2724e48d030>,\n",
       " <rdkit.DataStructs.cDataStructs.ExplicitBitVect at 0x2724e48d080>,\n",
       " <rdkit.DataStructs.cDataStructs.ExplicitBitVect at 0x2724e48d0d0>,\n",
       " <rdkit.DataStructs.cDataStructs.ExplicitBitVect at 0x2724e48d120>,\n",
       " <rdkit.DataStructs.cDataStructs.ExplicitBitVect at 0x2724e48d170>,\n",
       " <rdkit.DataStructs.cDataStructs.ExplicitBitVect at 0x2724e48d1c0>,\n",
       " <rdkit.DataStructs.cDataStructs.ExplicitBitVect at 0x2724e48d210>,\n",
       " <rdkit.DataStructs.cDataStructs.ExplicitBitVect at 0x2724e48d260>,\n",
       " <rdkit.DataStructs.cDataStructs.ExplicitBitVect at 0x2724e48d2b0>,\n",
       " <rdkit.DataStructs.cDataStructs.ExplicitBitVect at 0x2724e48d300>,\n",
       " <rdkit.DataStructs.cDataStructs.ExplicitBitVect at 0x2724e48d350>,\n",
       " <rdkit.DataStructs.cDataStructs.ExplicitBitVect at 0x2724e48d3a0>,\n",
       " <rdkit.DataStructs.cDataStructs.ExplicitBitVect at 0x2724e48d3f0>,\n",
       " <rdkit.DataStructs.cDataStructs.ExplicitBitVect at 0x2724e48d440>,\n",
       " <rdkit.DataStructs.cDataStructs.ExplicitBitVect at 0x2724e48d490>,\n",
       " <rdkit.DataStructs.cDataStructs.ExplicitBitVect at 0x2724e48d4e0>,\n",
       " <rdkit.DataStructs.cDataStructs.ExplicitBitVect at 0x2724e48d530>,\n",
       " <rdkit.DataStructs.cDataStructs.ExplicitBitVect at 0x2724e48d580>,\n",
       " <rdkit.DataStructs.cDataStructs.ExplicitBitVect at 0x2724e48d5d0>,\n",
       " <rdkit.DataStructs.cDataStructs.ExplicitBitVect at 0x2724e48d620>,\n",
       " <rdkit.DataStructs.cDataStructs.ExplicitBitVect at 0x2724e48d670>,\n",
       " <rdkit.DataStructs.cDataStructs.ExplicitBitVect at 0x2724e48d6c0>,\n",
       " <rdkit.DataStructs.cDataStructs.ExplicitBitVect at 0x2724e48d710>,\n",
       " <rdkit.DataStructs.cDataStructs.ExplicitBitVect at 0x2724e48d760>,\n",
       " <rdkit.DataStructs.cDataStructs.ExplicitBitVect at 0x2724e48d7b0>,\n",
       " <rdkit.DataStructs.cDataStructs.ExplicitBitVect at 0x2724e48d800>,\n",
       " <rdkit.DataStructs.cDataStructs.ExplicitBitVect at 0x2724e48d850>,\n",
       " <rdkit.DataStructs.cDataStructs.ExplicitBitVect at 0x2724e48d8a0>,\n",
       " <rdkit.DataStructs.cDataStructs.ExplicitBitVect at 0x2724e48d8f0>,\n",
       " <rdkit.DataStructs.cDataStructs.ExplicitBitVect at 0x2724e48d940>,\n",
       " <rdkit.DataStructs.cDataStructs.ExplicitBitVect at 0x2724e48d990>,\n",
       " <rdkit.DataStructs.cDataStructs.ExplicitBitVect at 0x2724e48d9e0>,\n",
       " <rdkit.DataStructs.cDataStructs.ExplicitBitVect at 0x2724e48da30>,\n",
       " <rdkit.DataStructs.cDataStructs.ExplicitBitVect at 0x2724e48da80>,\n",
       " <rdkit.DataStructs.cDataStructs.ExplicitBitVect at 0x2724e48dad0>,\n",
       " <rdkit.DataStructs.cDataStructs.ExplicitBitVect at 0x2724e48db20>,\n",
       " <rdkit.DataStructs.cDataStructs.ExplicitBitVect at 0x2724e48db70>,\n",
       " <rdkit.DataStructs.cDataStructs.ExplicitBitVect at 0x2724e48dbc0>]"
      ]
     },
     "execution_count": 317,
     "metadata": {},
     "output_type": "execute_result"
    }
   ],
   "source": [
    "fp"
   ]
  },
  {
   "cell_type": "code",
   "execution_count": 318,
   "metadata": {},
   "outputs": [],
   "source": [
    "#Convert the morgan fingerprints from the rdkit format to a readable numpy array.\n",
    "\n",
    "def rdkit_numpy_convert(fp):\n",
    "    output = []\n",
    "    for f in fp:\n",
    "        arr = np.zeros((1,))\n",
    "        DataStructs.ConvertToNumpyArray(f, arr)\n",
    "        output.append(arr)\n",
    "    return np.asarray(output)"
   ]
  },
  {
   "cell_type": "code",
   "execution_count": 319,
   "metadata": {},
   "outputs": [],
   "source": [
    "x = rdkit_numpy_convert(fp)"
   ]
  },
  {
   "cell_type": "code",
   "execution_count": 320,
   "metadata": {},
   "outputs": [
    {
     "data": {
      "text/plain": [
       "array([[0., 0., 0., ..., 0., 0., 0.],\n",
       "       [0., 1., 0., ..., 0., 0., 0.],\n",
       "       [0., 0., 0., ..., 0., 0., 0.],\n",
       "       ...,\n",
       "       [0., 0., 0., ..., 0., 0., 0.],\n",
       "       [0., 1., 0., ..., 0., 0., 0.],\n",
       "       [0., 1., 0., ..., 0., 0., 0.]])"
      ]
     },
     "execution_count": 320,
     "metadata": {},
     "output_type": "execute_result"
    }
   ],
   "source": [
    "x"
   ]
  },
  {
   "cell_type": "code",
   "execution_count": 321,
   "metadata": {},
   "outputs": [
    {
     "data": {
      "text/plain": [
       "(321, 2048)"
      ]
     },
     "execution_count": 321,
     "metadata": {},
     "output_type": "execute_result"
    }
   ],
   "source": [
    "x.shape"
   ]
  },
  {
   "cell_type": "code",
   "execution_count": 322,
   "metadata": {},
   "outputs": [
    {
     "data": {
      "text/plain": [
       "0.5545171339563862"
      ]
     },
     "execution_count": 322,
     "metadata": {},
     "output_type": "execute_result"
    }
   ],
   "source": [
    "# check wether the data set is balanced\n",
    "sum(y) / len(y)"
   ]
  },
  {
   "cell_type": "markdown",
   "metadata": {},
   "source": [
    "#### Set random seed to make all further calculations reproducible"
   ]
  },
  {
   "cell_type": "code",
   "execution_count": 323,
   "metadata": {},
   "outputs": [],
   "source": [
    "seed = 42"
   ]
  },
  {
   "cell_type": "markdown",
   "metadata": {},
   "source": [
    "#### Split the whole set on training and test sets"
   ]
  },
  {
   "cell_type": "code",
   "execution_count": 324,
   "metadata": {},
   "outputs": [],
   "source": [
    "# randomly select 20% of compounds as test set\n",
    "x_tr, x_ts, y_tr, y_ts = train_test_split(x, y, test_size=0.20, random_state=seed)"
   ]
  },
  {
   "cell_type": "code",
   "execution_count": 325,
   "metadata": {},
   "outputs": [
    {
     "name": "stdout",
     "output_type": "stream",
     "text": [
      "[0, 1, 0, 1, 1, 1, 1, 1, 0, 0, 0, 1, 0, 0, 0, 0, 1, 1, 1, 1, 1, 1, 1, 1, 1, 1, 1, 1, 0, 1, 1, 0, 1, 0, 0, 0, 0, 1, 1, 1, 0, 1, 1, 0, 1, 1, 1, 0, 1, 1, 0, 0, 0, 1, 0, 0, 0, 0, 0, 1, 1, 1, 0, 1, 1]\n"
     ]
    }
   ],
   "source": [
    "#checking the distribution of test data\n",
    "print(y_ts)"
   ]
  },
  {
   "cell_type": "markdown",
   "metadata": {},
   "source": [
    "#### Create folds for cross-validation"
   ]
  },
  {
   "cell_type": "code",
   "execution_count": 326,
   "metadata": {},
   "outputs": [],
   "source": [
    "cv = StratifiedKFold(n_splits=5, random_state=None)"
   ]
  },
  {
   "cell_type": "code",
   "execution_count": 327,
   "metadata": {},
   "outputs": [
    {
     "name": "stdout",
     "output_type": "stream",
     "text": [
      "\n",
      "Fold_1\n",
      "TRAIN: [ 44  48  49  51  52  57  58  59  60  61  62  63  64  65  66  67  68  69\n",
      "  70  71  72  73  74  75  76  77  78  79  80  81  82  83  84  85  86  87\n",
      "  88  89  90  91  92  93  94  95  96  97  98  99 100 101 102 103 104 105\n",
      " 106 107 108 109 110 111 112 113 114 115 116 117 118 119 120 121 122 123\n",
      " 124 125 126 127 128 129 130 131 132 133 134 135 136 137 138 139 140 141\n",
      " 142 143 144 145 146 147 148 149 150 151 152 153 154 155 156 157 158 159\n",
      " 160 161 162 163 164 165 166 167 168 169 170 171 172 173 174 175 176 177\n",
      " 178 179 180 181 182 183 184 185 186 187 188 189 190 191 192 193 194 195\n",
      " 196 197 198 199 200 201 202 203 204 205 206 207 208 209 210 211 212 213\n",
      " 214 215 216 217 218 219 220 221 222 223 224 225 226 227 228 229 230 231\n",
      " 232 233 234 235 236 237 238 239 240 241 242 243 244 245 246 247 248 249\n",
      " 250 251 252 253 254 255]\n",
      "TEST: [ 0  1  2  3  4  5  6  7  8  9 10 11 12 13 14 15 16 17 18 19 20 21 22 23\n",
      " 24 25 26 27 28 29 30 31 32 33 34 35 36 37 38 39 40 41 42 43 45 46 47 50\n",
      " 53 54 55 56]\n",
      "\n",
      "Fold_2\n",
      "TRAIN: [  0   1   2   3   4   5   6   7   8   9  10  11  12  13  14  15  16  17\n",
      "  18  19  20  21  22  23  24  25  26  27  28  29  30  31  32  33  34  35\n",
      "  36  37  38  39  40  41  42  43  45  46  47  50  53  54  55  56 100 101\n",
      " 103 106 107 108 109 110 111 112 113 114 115 116 117 118 119 120 121 122\n",
      " 123 124 125 126 127 128 129 130 131 132 133 134 135 136 137 138 139 140\n",
      " 141 142 143 144 145 146 147 148 149 150 151 152 153 154 155 156 157 158\n",
      " 159 160 161 162 163 164 165 166 167 168 169 170 171 172 173 174 175 176\n",
      " 177 178 179 180 181 182 183 184 185 186 187 188 189 190 191 192 193 194\n",
      " 195 196 197 198 199 200 201 202 203 204 205 206 207 208 209 210 211 212\n",
      " 213 214 215 216 217 218 219 220 221 222 223 224 225 226 227 228 229 230\n",
      " 231 232 233 234 235 236 237 238 239 240 241 242 243 244 245 246 247 248\n",
      " 249 250 251 252 253 254 255]\n",
      "TEST: [ 44  48  49  51  52  57  58  59  60  61  62  63  64  65  66  67  68  69\n",
      "  70  71  72  73  74  75  76  77  78  79  80  81  82  83  84  85  86  87\n",
      "  88  89  90  91  92  93  94  95  96  97  98  99 102 104 105]\n",
      "\n",
      "Fold_3\n",
      "TRAIN: [  0   1   2   3   4   5   6   7   8   9  10  11  12  13  14  15  16  17\n",
      "  18  19  20  21  22  23  24  25  26  27  28  29  30  31  32  33  34  35\n",
      "  36  37  38  39  40  41  42  43  44  45  46  47  48  49  50  51  52  53\n",
      "  54  55  56  57  58  59  60  61  62  63  64  65  66  67  68  69  70  71\n",
      "  72  73  74  75  76  77  78  79  80  81  82  83  84  85  86  87  88  89\n",
      "  90  91  92  93  94  95  96  97  98  99 102 104 105 154 155 156 157 158\n",
      " 159 160 161 162 163 164 165 166 167 168 169 170 171 172 173 174 175 176\n",
      " 177 178 179 180 181 182 183 184 185 186 187 188 189 190 191 192 193 194\n",
      " 195 196 197 198 199 200 201 202 203 204 205 206 207 208 209 210 211 212\n",
      " 213 214 215 216 217 218 219 220 221 222 223 224 225 226 227 228 229 230\n",
      " 231 232 233 234 235 236 237 238 239 240 241 242 243 244 245 246 247 248\n",
      " 249 250 251 252 253 254 255]\n",
      "TEST: [100 101 103 106 107 108 109 110 111 112 113 114 115 116 117 118 119 120\n",
      " 121 122 123 124 125 126 127 128 129 130 131 132 133 134 135 136 137 138\n",
      " 139 140 141 142 143 144 145 146 147 148 149 150 151 152 153]\n",
      "\n",
      "Fold_4\n",
      "TRAIN: [  0   1   2   3   4   5   6   7   8   9  10  11  12  13  14  15  16  17\n",
      "  18  19  20  21  22  23  24  25  26  27  28  29  30  31  32  33  34  35\n",
      "  36  37  38  39  40  41  42  43  44  45  46  47  48  49  50  51  52  53\n",
      "  54  55  56  57  58  59  60  61  62  63  64  65  66  67  68  69  70  71\n",
      "  72  73  74  75  76  77  78  79  80  81  82  83  84  85  86  87  88  89\n",
      "  90  91  92  93  94  95  96  97  98  99 100 101 102 103 104 105 106 107\n",
      " 108 109 110 111 112 113 114 115 116 117 118 119 120 121 122 123 124 125\n",
      " 126 127 128 129 130 131 132 133 134 135 136 137 138 139 140 141 142 143\n",
      " 144 145 146 147 148 149 150 151 152 153 198 202 207 208 209 210 211 212\n",
      " 213 214 215 216 217 218 219 220 221 222 223 224 225 226 227 228 229 230\n",
      " 231 232 233 234 235 236 237 238 239 240 241 242 243 244 245 246 247 248\n",
      " 249 250 251 252 253 254 255]\n",
      "TEST: [154 155 156 157 158 159 160 161 162 163 164 165 166 167 168 169 170 171\n",
      " 172 173 174 175 176 177 178 179 180 181 182 183 184 185 186 187 188 189\n",
      " 190 191 192 193 194 195 196 197 199 200 201 203 204 205 206]\n",
      "\n",
      "Fold_5\n",
      "TRAIN: [  0   1   2   3   4   5   6   7   8   9  10  11  12  13  14  15  16  17\n",
      "  18  19  20  21  22  23  24  25  26  27  28  29  30  31  32  33  34  35\n",
      "  36  37  38  39  40  41  42  43  44  45  46  47  48  49  50  51  52  53\n",
      "  54  55  56  57  58  59  60  61  62  63  64  65  66  67  68  69  70  71\n",
      "  72  73  74  75  76  77  78  79  80  81  82  83  84  85  86  87  88  89\n",
      "  90  91  92  93  94  95  96  97  98  99 100 101 102 103 104 105 106 107\n",
      " 108 109 110 111 112 113 114 115 116 117 118 119 120 121 122 123 124 125\n",
      " 126 127 128 129 130 131 132 133 134 135 136 137 138 139 140 141 142 143\n",
      " 144 145 146 147 148 149 150 151 152 153 154 155 156 157 158 159 160 161\n",
      " 162 163 164 165 166 167 168 169 170 171 172 173 174 175 176 177 178 179\n",
      " 180 181 182 183 184 185 186 187 188 189 190 191 192 193 194 195 196 197\n",
      " 199 200 201 203 204 205 206]\n",
      "TEST: [198 202 207 208 209 210 211 212 213 214 215 216 217 218 219 220 221 222\n",
      " 223 224 225 226 227 228 229 230 231 232 233 234 235 236 237 238 239 240\n",
      " 241 242 243 244 245 246 247 248 249 250 251 252 253 254 255]\n"
     ]
    }
   ],
   "source": [
    "# print out the ids of folds\n",
    "for i, (train_index, test_index) in enumerate(cv.split(x_tr, y_tr)):\n",
    "    print(\"\\nFold_\" + str(i+1))\n",
    "    print(\"TRAIN:\", train_index)\n",
    "    print(\"TEST:\", test_index)"
   ]
  },
  {
   "cell_type": "markdown",
   "metadata": {},
   "source": [
    "#### Scale X"
   ]
  },
  {
   "cell_type": "markdown",
   "metadata": {},
   "source": [
    "This step may be crucial for certain modeling approaches lke SVM.\n",
    "In the case of binary fingerprints it may be less useful."
   ]
  },
  {
   "cell_type": "code",
   "execution_count": 328,
   "metadata": {},
   "outputs": [],
   "source": [
    "# Instantiate a scale object which can be further applied to scale any data to fit the training set\n",
    "scale = StandardScaler().fit(x_tr)\n",
    "x_tr = scale.transform(x_tr)"
   ]
  },
  {
   "cell_type": "code",
   "execution_count": 329,
   "metadata": {},
   "outputs": [
    {
     "data": {
      "text/plain": [
       "['logBB_scale.pkl']"
      ]
     },
     "execution_count": 329,
     "metadata": {},
     "output_type": "execute_result"
    }
   ],
   "source": [
    "# it is a good idea to save it for future use with joblib\n",
    "joblib.dump(scale, \"logBB_scale.pkl\", compress=3)"
   ]
  },
  {
   "cell_type": "markdown",
   "metadata": {},
   "source": [
    "#### Search for optimal tuning parameters and build the Radom Forest model"
   ]
  },
  {
   "cell_type": "code",
   "execution_count": 330,
   "metadata": {},
   "outputs": [],
   "source": [
    "# create grid search dictionary\n",
    "param_grid = {\"max_features\": [x_tr.shape[1] // 10, x_tr.shape[1] // 7, x_tr.shape[1] // 5, x_tr.shape[1] // 3], \n",
    "              \"n_estimators\": [100, 250, 500]}"
   ]
  },
  {
   "cell_type": "code",
   "execution_count": 331,
   "metadata": {},
   "outputs": [],
   "source": [
    "# setup model building\n",
    "m = GridSearchCV(RandomForestClassifier(), param_grid, n_jobs=2, cv=cv, verbose=1)"
   ]
  },
  {
   "cell_type": "code",
   "execution_count": 332,
   "metadata": {},
   "outputs": [
    {
     "name": "stdout",
     "output_type": "stream",
     "text": [
      "Fitting 5 folds for each of 12 candidates, totalling 60 fits\n"
     ]
    },
    {
     "data": {
      "text/plain": [
       "GridSearchCV(cv=StratifiedKFold(n_splits=5, random_state=None, shuffle=False),\n",
       "             estimator=RandomForestClassifier(), n_jobs=2,\n",
       "             param_grid={'max_features': [204, 292, 409, 682],\n",
       "                         'n_estimators': [100, 250, 500]},\n",
       "             verbose=1)"
      ]
     },
     "execution_count": 332,
     "metadata": {},
     "output_type": "execute_result"
    }
   ],
   "source": [
    "# run model building\n",
    "m.fit(x_tr, y_tr)"
   ]
  },
  {
   "cell_type": "code",
   "execution_count": 333,
   "metadata": {},
   "outputs": [
    {
     "data": {
      "text/plain": [
       "{'max_features': 292, 'n_estimators': 100}"
      ]
     },
     "execution_count": 333,
     "metadata": {},
     "output_type": "execute_result"
    }
   ],
   "source": [
    "#check which parameters gives us the best result\n",
    "m.best_params_"
   ]
  },
  {
   "cell_type": "code",
   "execution_count": 334,
   "metadata": {},
   "outputs": [
    {
     "data": {
      "text/plain": [
       "0.7655354449472096"
      ]
     },
     "execution_count": 334,
     "metadata": {},
     "output_type": "execute_result"
    }
   ],
   "source": [
    "#check the best score opbtained after running the model on multiple folds and candidates\n",
    "m.best_score_"
   ]
  },
  {
   "cell_type": "code",
   "execution_count": 335,
   "metadata": {},
   "outputs": [
    {
     "data": {
      "text/plain": [
       "{'mean_fit_time': array([0.50453482, 1.16934047, 2.10327806, 0.43078108, 1.04966002,\n",
       "        1.94051886, 0.45112343, 1.02720408, 2.01914606, 0.46382065,\n",
       "        1.16148992, 2.24114404]),\n",
       " 'std_fit_time': array([0.01262813, 0.08170524, 0.10029136, 0.01850265, 0.12483956,\n",
       "        0.08378965, 0.02620548, 0.04987559, 0.06467989, 0.02071756,\n",
       "        0.06346218, 0.06078578]),\n",
       " 'mean_score_time': array([0.01565156, 0.04020329, 0.06788735, 0.01340017, 0.0331955 ,\n",
       "        0.05152097, 0.01112661, 0.02510343, 0.04869056, 0.01601925,\n",
       "        0.02251916, 0.04065094]),\n",
       " 'std_score_time': array([0.00193342, 0.0157918 , 0.00376278, 0.00149715, 0.0046486 ,\n",
       "        0.00592093, 0.00578574, 0.00623024, 0.00294776, 0.00412548,\n",
       "        0.00830344, 0.00766564]),\n",
       " 'param_max_features': masked_array(data=[204, 204, 204, 292, 292, 292, 409, 409, 409, 682, 682,\n",
       "                    682],\n",
       "              mask=[False, False, False, False, False, False, False, False,\n",
       "                    False, False, False, False],\n",
       "        fill_value='?',\n",
       "             dtype=object),\n",
       " 'param_n_estimators': masked_array(data=[100, 250, 500, 100, 250, 500, 100, 250, 500, 100, 250,\n",
       "                    500],\n",
       "              mask=[False, False, False, False, False, False, False, False,\n",
       "                    False, False, False, False],\n",
       "        fill_value='?',\n",
       "             dtype=object),\n",
       " 'params': [{'max_features': 204, 'n_estimators': 100},\n",
       "  {'max_features': 204, 'n_estimators': 250},\n",
       "  {'max_features': 204, 'n_estimators': 500},\n",
       "  {'max_features': 292, 'n_estimators': 100},\n",
       "  {'max_features': 292, 'n_estimators': 250},\n",
       "  {'max_features': 292, 'n_estimators': 500},\n",
       "  {'max_features': 409, 'n_estimators': 100},\n",
       "  {'max_features': 409, 'n_estimators': 250},\n",
       "  {'max_features': 409, 'n_estimators': 500},\n",
       "  {'max_features': 682, 'n_estimators': 100},\n",
       "  {'max_features': 682, 'n_estimators': 250},\n",
       "  {'max_features': 682, 'n_estimators': 500}],\n",
       " 'split0_test_score': array([0.76923077, 0.76923077, 0.78846154, 0.78846154, 0.76923077,\n",
       "        0.78846154, 0.75      , 0.76923077, 0.78846154, 0.75      ,\n",
       "        0.76923077, 0.76923077]),\n",
       " 'split1_test_score': array([0.60784314, 0.60784314, 0.62745098, 0.60784314, 0.60784314,\n",
       "        0.60784314, 0.62745098, 0.60784314, 0.60784314, 0.60784314,\n",
       "        0.62745098, 0.60784314]),\n",
       " 'split2_test_score': array([0.74509804, 0.74509804, 0.74509804, 0.76470588, 0.78431373,\n",
       "        0.7254902 , 0.76470588, 0.70588235, 0.70588235, 0.7254902 ,\n",
       "        0.76470588, 0.74509804]),\n",
       " 'split3_test_score': array([0.74509804, 0.74509804, 0.7254902 , 0.76470588, 0.7254902 ,\n",
       "        0.7254902 , 0.74509804, 0.7254902 , 0.7254902 , 0.76470588,\n",
       "        0.70588235, 0.7254902 ]),\n",
       " 'split4_test_score': array([0.8627451 , 0.8627451 , 0.8627451 , 0.90196078, 0.8627451 ,\n",
       "        0.90196078, 0.82352941, 0.88235294, 0.8627451 , 0.88235294,\n",
       "        0.8627451 , 0.88235294]),\n",
       " 'mean_test_score': array([0.74600302, 0.74600302, 0.74984917, 0.76553544, 0.74992459,\n",
       "        0.74984917, 0.74215686, 0.73815988, 0.73808446, 0.74607843,\n",
       "        0.74600302, 0.74600302]),\n",
       " 'std_test_score': array([0.08155738, 0.08155738, 0.07724462, 0.09381441, 0.08374722,\n",
       "        0.09589712, 0.06380839, 0.08937768, 0.0851311 , 0.08771086,\n",
       "        0.07769465, 0.0879097 ]),\n",
       " 'rank_test_score': array([ 6,  6,  3,  1,  2,  3, 10, 11, 12,  5,  6,  6])}"
      ]
     },
     "execution_count": 335,
     "metadata": {},
     "output_type": "execute_result"
    }
   ],
   "source": [
    "#check the results of different folds and candidates to get a better idea of our dataset and the performance of our model\n",
    "m.cv_results_"
   ]
  },
  {
   "cell_type": "code",
   "execution_count": 336,
   "metadata": {},
   "outputs": [
    {
     "data": {
      "text/plain": [
       "array([0.74600302, 0.74600302, 0.74984917, 0.76553544, 0.74992459,\n",
       "       0.74984917, 0.74215686, 0.73815988, 0.73808446, 0.74607843,\n",
       "       0.74600302, 0.74600302])"
      ]
     },
     "execution_count": 336,
     "metadata": {},
     "output_type": "execute_result"
    }
   ],
   "source": [
    "#explore the data to understand the difference in performance between different candidates\n",
    "m.cv_results_['mean_test_score']"
   ]
  },
  {
   "cell_type": "code",
   "execution_count": 337,
   "metadata": {},
   "outputs": [
    {
     "data": {
      "text/plain": [
       "[{'max_features': 204, 'n_estimators': 100},\n",
       " {'max_features': 204, 'n_estimators': 250},\n",
       " {'max_features': 204, 'n_estimators': 500},\n",
       " {'max_features': 292, 'n_estimators': 100},\n",
       " {'max_features': 292, 'n_estimators': 250},\n",
       " {'max_features': 292, 'n_estimators': 500},\n",
       " {'max_features': 409, 'n_estimators': 100},\n",
       " {'max_features': 409, 'n_estimators': 250},\n",
       " {'max_features': 409, 'n_estimators': 500},\n",
       " {'max_features': 682, 'n_estimators': 100},\n",
       " {'max_features': 682, 'n_estimators': 250},\n",
       " {'max_features': 682, 'n_estimators': 500}]"
      ]
     },
     "execution_count": 337,
     "metadata": {},
     "output_type": "execute_result"
    }
   ],
   "source": [
    "m.cv_results_['params']"
   ]
  },
  {
   "cell_type": "markdown",
   "metadata": {},
   "source": [
    "#### Save model"
   ]
  },
  {
   "cell_type": "code",
   "execution_count": 338,
   "metadata": {},
   "outputs": [
    {
     "data": {
      "text/plain": [
       "['logBB_rf_morgan.pkl']"
      ]
     },
     "execution_count": 338,
     "metadata": {},
     "output_type": "execute_result"
    }
   ],
   "source": [
    "#save the model for future use with joblib\n",
    "joblib.dump(m, \"logBB_rf_morgan.pkl\", compress=3)"
   ]
  },
  {
   "cell_type": "markdown",
   "metadata": {
    "collapsed": true
   },
   "source": [
    "#### Predict test set compounds"
   ]
  },
  {
   "cell_type": "code",
   "execution_count": 339,
   "metadata": {},
   "outputs": [],
   "source": [
    "# load scale if necessary\n",
    "scale = joblib.load(\"logBB_scale.pkl\")"
   ]
  },
  {
   "cell_type": "code",
   "execution_count": 340,
   "metadata": {},
   "outputs": [],
   "source": [
    "# scale descriptors of the test set compounds\n",
    "x_ts = scale.transform(x_ts)"
   ]
  },
  {
   "cell_type": "code",
   "execution_count": 341,
   "metadata": {},
   "outputs": [],
   "source": [
    "# predict logBB class\n",
    "pred_rf = m.predict(x_ts)"
   ]
  },
  {
   "cell_type": "code",
   "execution_count": 342,
   "metadata": {},
   "outputs": [
    {
     "data": {
      "text/plain": [
       "array([0, 1, 1, 1, 1, 1, 1, 1, 0, 0, 1, 0, 1, 0, 0, 1, 1, 1, 1, 1, 1, 1,\n",
       "       1, 1, 1, 1, 0, 1, 0, 0, 1, 0, 1, 0, 1, 0, 0, 0, 0, 1, 0, 1, 1, 0,\n",
       "       1, 0, 1, 0, 1, 1, 0, 1, 1, 0, 0, 0, 0, 1, 0, 1, 1, 1, 0, 1, 1])"
      ]
     },
     "execution_count": 342,
     "metadata": {},
     "output_type": "execute_result"
    }
   ],
   "source": [
    "pred_rf"
   ]
  },
  {
   "cell_type": "markdown",
   "metadata": {},
   "source": [
    "#### calculate statistics for test set preditions"
   ]
  },
  {
   "cell_type": "code",
   "execution_count": 343,
   "metadata": {},
   "outputs": [
    {
     "data": {
      "text/plain": [
       "0.7692307692307693"
      ]
     },
     "execution_count": 343,
     "metadata": {},
     "output_type": "execute_result"
    }
   ],
   "source": [
    "accuracy_score(y_ts, pred_rf)"
   ]
  },
  {
   "cell_type": "code",
   "execution_count": 344,
   "metadata": {},
   "outputs": [
    {
     "data": {
      "text/plain": [
       "0.5225580604829463"
      ]
     },
     "execution_count": 344,
     "metadata": {},
     "output_type": "execute_result"
    }
   ],
   "source": [
    "matthews_corrcoef(y_ts, pred_rf)"
   ]
  },
  {
   "cell_type": "code",
   "execution_count": 345,
   "metadata": {},
   "outputs": [
    {
     "data": {
      "text/plain": [
       "0.5222929936305732"
      ]
     },
     "execution_count": 345,
     "metadata": {},
     "output_type": "execute_result"
    }
   ],
   "source": [
    "cohen_kappa_score(y_ts, pred_rf)"
   ]
  },
  {
   "cell_type": "markdown",
   "metadata": {},
   "source": [
    "#### applicability domain estimates"
   ]
  },
  {
   "cell_type": "code",
   "execution_count": 346,
   "metadata": {},
   "outputs": [],
   "source": [
    "# if the model includes several ones like RF models or consensus models (or for probabilistic models)\n",
    "# we can calculate consistency of predictions amongs those models and use it for estimation of applicability domain\n",
    "pred_prob = m.predict_proba(x_ts)"
   ]
  },
  {
   "cell_type": "code",
   "execution_count": 347,
   "metadata": {},
   "outputs": [
    {
     "data": {
      "text/plain": [
       "array([[0.94, 0.06],\n",
       "       [0.17, 0.83],\n",
       "       [0.3 , 0.7 ],\n",
       "       [0.23, 0.77],\n",
       "       [0.39, 0.61],\n",
       "       [0.24, 0.76],\n",
       "       [0.03, 0.97],\n",
       "       [0.01, 0.99],\n",
       "       [0.92, 0.08],\n",
       "       [0.88, 0.12],\n",
       "       [0.21, 0.79],\n",
       "       [0.86, 0.14],\n",
       "       [0.48, 0.52],\n",
       "       [0.93, 0.07],\n",
       "       [0.59, 0.41],\n",
       "       [0.49, 0.51],\n",
       "       [0.1 , 0.9 ],\n",
       "       [0.06, 0.94],\n",
       "       [0.01, 0.99],\n",
       "       [0.1 , 0.9 ],\n",
       "       [0.49, 0.51],\n",
       "       [0.01, 0.99],\n",
       "       [0.17, 0.83],\n",
       "       [0.43, 0.57],\n",
       "       [0.21, 0.79],\n",
       "       [0.43, 0.57],\n",
       "       [0.57, 0.43],\n",
       "       [0.38, 0.62],\n",
       "       [0.81, 0.19],\n",
       "       [0.68, 0.32],\n",
       "       [0.02, 0.98],\n",
       "       [0.99, 0.01],\n",
       "       [0.12, 0.88],\n",
       "       [0.77, 0.23],\n",
       "       [0.23, 0.77],\n",
       "       [0.53, 0.47],\n",
       "       [0.87, 0.13],\n",
       "       [0.76, 0.24],\n",
       "       [0.59, 0.41],\n",
       "       [0.  , 1.  ],\n",
       "       [0.91, 0.09],\n",
       "       [0.  , 1.  ],\n",
       "       [0.3 , 0.7 ],\n",
       "       [0.51, 0.49],\n",
       "       [0.23, 0.77],\n",
       "       [0.76, 0.24],\n",
       "       [0.23, 0.77],\n",
       "       [0.79, 0.21],\n",
       "       [0.02, 0.98],\n",
       "       [0.22, 0.78],\n",
       "       [0.66, 0.34],\n",
       "       [0.13, 0.87],\n",
       "       [0.38, 0.62],\n",
       "       [0.63, 0.37],\n",
       "       [0.72, 0.28],\n",
       "       [0.82, 0.18],\n",
       "       [0.67, 0.33],\n",
       "       [0.13, 0.87],\n",
       "       [0.92, 0.08],\n",
       "       [0.02, 0.98],\n",
       "       [0.01, 0.99],\n",
       "       [0.17, 0.83],\n",
       "       [0.91, 0.09],\n",
       "       [0.28, 0.72],\n",
       "       [0.02, 0.98]])"
      ]
     },
     "execution_count": 347,
     "metadata": {},
     "output_type": "execute_result"
    }
   ],
   "source": [
    "# probablity\n",
    "pred_prob"
   ]
  },
  {
   "cell_type": "code",
   "execution_count": 348,
   "metadata": {},
   "outputs": [],
   "source": [
    "# setup threshold\n",
    "threshold = 0.8"
   ]
  },
  {
   "cell_type": "code",
   "execution_count": 349,
   "metadata": {},
   "outputs": [],
   "source": [
    "# calc maximum predicted probability for each row (compound) and compare to the threshold\n",
    "da = np.amax(pred_prob, axis=1) > threshold"
   ]
  },
  {
   "cell_type": "code",
   "execution_count": 350,
   "metadata": {},
   "outputs": [
    {
     "data": {
      "text/plain": [
       "array([ True,  True, False, False, False, False,  True,  True,  True,\n",
       "        True, False,  True, False,  True, False, False,  True,  True,\n",
       "        True,  True, False,  True,  True, False, False, False, False,\n",
       "       False,  True, False,  True,  True,  True, False, False, False,\n",
       "        True, False, False,  True,  True,  True, False, False, False,\n",
       "       False, False, False,  True, False, False,  True, False, False,\n",
       "       False,  True, False,  True,  True,  True,  True,  True,  True,\n",
       "       False,  True])"
      ]
     },
     "execution_count": 350,
     "metadata": {},
     "output_type": "execute_result"
    }
   ],
   "source": [
    "da"
   ]
  },
  {
   "cell_type": "code",
   "execution_count": 351,
   "metadata": {},
   "outputs": [
    {
     "data": {
      "text/plain": [
       "0.90625"
      ]
     },
     "execution_count": 351,
     "metadata": {},
     "output_type": "execute_result"
    }
   ],
   "source": [
    "# calculate statistics\n",
    "accuracy_score(np.asarray(y_ts)[da], pred_rf[da])"
   ]
  },
  {
   "cell_type": "code",
   "execution_count": 352,
   "metadata": {},
   "outputs": [
    {
     "data": {
      "text/plain": [
       "0.8050112948805689"
      ]
     },
     "execution_count": 352,
     "metadata": {},
     "output_type": "execute_result"
    }
   ],
   "source": [
    "matthews_corrcoef(np.asarray(y_ts)[da], pred_rf[da])"
   ]
  },
  {
   "cell_type": "code",
   "execution_count": 353,
   "metadata": {},
   "outputs": [
    {
     "data": {
      "text/plain": [
       "0.8032786885245902"
      ]
     },
     "execution_count": 353,
     "metadata": {},
     "output_type": "execute_result"
    }
   ],
   "source": [
    "cohen_kappa_score(np.asarray(y_ts)[da], pred_rf[da])"
   ]
  },
  {
   "cell_type": "code",
   "execution_count": 354,
   "metadata": {},
   "outputs": [
    {
     "data": {
      "text/plain": [
       "0.49230769230769234"
      ]
     },
     "execution_count": 354,
     "metadata": {},
     "output_type": "execute_result"
    }
   ],
   "source": [
    "# calculate coverage\n",
    "sum(da) / len(da)"
   ]
  },
  {
   "cell_type": "markdown",
   "metadata": {},
   "source": [
    "#### Build SVM model"
   ]
  },
  {
   "cell_type": "code",
   "execution_count": 355,
   "metadata": {},
   "outputs": [],
   "source": [
    "# create grid search dictionary\n",
    "param_grid = {\"C\": [10 ** i for i in range(0, 5)],\n",
    "              \"gamma\": [10 ** i for i in range(-6, 0)]}"
   ]
  },
  {
   "cell_type": "code",
   "execution_count": 356,
   "metadata": {},
   "outputs": [],
   "source": [
    "# setup model building\n",
    "svm = GridSearchCV(SVC(kernel='rbf', probability=True), param_grid, n_jobs=2, cv=cv, verbose=1)"
   ]
  },
  {
   "cell_type": "code",
   "execution_count": 357,
   "metadata": {},
   "outputs": [
    {
     "name": "stdout",
     "output_type": "stream",
     "text": [
      "Fitting 5 folds for each of 30 candidates, totalling 150 fits\n"
     ]
    },
    {
     "data": {
      "text/plain": [
       "GridSearchCV(cv=StratifiedKFold(n_splits=5, random_state=None, shuffle=False),\n",
       "             estimator=SVC(probability=True), n_jobs=2,\n",
       "             param_grid={'C': [1, 10, 100, 1000, 10000],\n",
       "                         'gamma': [1e-06, 1e-05, 0.0001, 0.001, 0.01, 0.1]},\n",
       "             verbose=1)"
      ]
     },
     "execution_count": 357,
     "metadata": {},
     "output_type": "execute_result"
    }
   ],
   "source": [
    "# run model building\n",
    "svm.fit(x_tr, y_tr)"
   ]
  },
  {
   "cell_type": "code",
   "execution_count": 358,
   "metadata": {},
   "outputs": [
    {
     "data": {
      "text/plain": [
       "0.753921568627451"
      ]
     },
     "execution_count": 358,
     "metadata": {},
     "output_type": "execute_result"
    }
   ],
   "source": [
    "#check the best score opbtained after running the model on multiple folds and candidates\n",
    "svm.best_score_"
   ]
  },
  {
   "cell_type": "code",
   "execution_count": 359,
   "metadata": {},
   "outputs": [
    {
     "data": {
      "text/plain": [
       "{'C': 100, 'gamma': 0.0001}"
      ]
     },
     "execution_count": 359,
     "metadata": {},
     "output_type": "execute_result"
    }
   ],
   "source": [
    "#check which parameters gives us the best result\n",
    "svm.best_params_"
   ]
  },
  {
   "cell_type": "code",
   "execution_count": 360,
   "metadata": {},
   "outputs": [
    {
     "data": {
      "text/plain": [
       "['logBB_svm_morgan.pkl']"
      ]
     },
     "execution_count": 360,
     "metadata": {},
     "output_type": "execute_result"
    }
   ],
   "source": [
    "# save the model for future use with joblib\n",
    "joblib.dump(svm, \"logBB_svm_morgan.pkl\", compress=3)"
   ]
  },
  {
   "cell_type": "code",
   "execution_count": 361,
   "metadata": {},
   "outputs": [],
   "source": [
    "# predict logBB class for the test set compounds\n",
    "pred_svm = svm.predict(x_ts)"
   ]
  },
  {
   "cell_type": "code",
   "execution_count": 362,
   "metadata": {},
   "outputs": [
    {
     "data": {
      "text/plain": [
       "array([0, 1, 1, 1, 1, 1, 1, 1, 0, 0, 1, 1, 1, 0, 1, 1, 1, 1, 1, 1, 1, 1,\n",
       "       1, 1, 1, 0, 0, 1, 1, 0, 1, 0, 1, 0, 1, 0, 0, 0, 1, 1, 0, 1, 1, 1,\n",
       "       1, 0, 1, 0, 1, 1, 1, 1, 0, 0, 0, 0, 0, 1, 0, 1, 1, 1, 0, 1, 1])"
      ]
     },
     "execution_count": 362,
     "metadata": {},
     "output_type": "execute_result"
    }
   ],
   "source": [
    "pred_svm"
   ]
  },
  {
   "cell_type": "code",
   "execution_count": 363,
   "metadata": {},
   "outputs": [
    {
     "name": "stdout",
     "output_type": "stream",
     "text": [
      "Accuracy =  0.7384615384615385\n",
      "MCC =  0.4527053324612084\n",
      "Kappa =  0.4466700050075113\n"
     ]
    }
   ],
   "source": [
    "# calculate the statistics\n",
    "print(\"Accuracy = \", accuracy_score(y_ts, pred_svm))\n",
    "print(\"MCC = \", matthews_corrcoef(y_ts, pred_svm))\n",
    "print(\"Kappa = \", cohen_kappa_score(y_ts, pred_svm))"
   ]
  },
  {
   "cell_type": "code",
   "execution_count": 364,
   "metadata": {},
   "outputs": [],
   "source": [
    "# estimate applicability domain and calculate statistics again\n",
    "pred_prob = svm.predict_proba(x_ts)"
   ]
  },
  {
   "cell_type": "code",
   "execution_count": 365,
   "metadata": {},
   "outputs": [],
   "source": [
    "da = np.amax(pred_prob, axis=1) > threshold"
   ]
  },
  {
   "cell_type": "code",
   "execution_count": 366,
   "metadata": {},
   "outputs": [
    {
     "name": "stdout",
     "output_type": "stream",
     "text": [
      "Accuracy =  0.8378378378378378\n",
      "MCC =  0.6606958729393098\n",
      "Kappa =  0.6563467492260062\n",
      "Coverage =  0.5692307692307692\n"
     ]
    }
   ],
   "source": [
    "print(\"Accuracy = \", accuracy_score(np.asarray(y_ts)[da], pred_svm[da]))\n",
    "print(\"MCC = \", matthews_corrcoef(np.asarray(y_ts)[da], pred_svm[da]))\n",
    "print(\"Kappa = \", cohen_kappa_score(np.asarray(y_ts)[da], pred_svm[da]))\n",
    "print(\"Coverage = \", sum(da) / len(da))"
   ]
  },
  {
   "cell_type": "markdown",
   "metadata": {},
   "source": [
    "### build the third model (GBM) and compute consensus predictions from RF, and SVM models"
   ]
  },
  {
   "cell_type": "code",
   "execution_count": 367,
   "metadata": {},
   "outputs": [],
   "source": [
    "# setup model building\n",
    "param_grid = {\"n_estimators\": [100, 200, 300, 400, 500]}\n",
    "gbm = GridSearchCV(GradientBoostingClassifier(subsample=0.5, max_features=0.5), \n",
    "                   param_grid, n_jobs=2, cv=cv, verbose=1)"
   ]
  },
  {
   "cell_type": "code",
   "execution_count": 368,
   "metadata": {},
   "outputs": [
    {
     "name": "stdout",
     "output_type": "stream",
     "text": [
      "Fitting 5 folds for each of 5 candidates, totalling 25 fits\n"
     ]
    },
    {
     "data": {
      "text/plain": [
       "GridSearchCV(cv=StratifiedKFold(n_splits=5, random_state=None, shuffle=False),\n",
       "             estimator=GradientBoostingClassifier(max_features=0.5,\n",
       "                                                  subsample=0.5),\n",
       "             n_jobs=2, param_grid={'n_estimators': [100, 200, 300, 400, 500]},\n",
       "             verbose=1)"
      ]
     },
     "execution_count": 368,
     "metadata": {},
     "output_type": "execute_result"
    }
   ],
   "source": [
    "# run model building\n",
    "gbm.fit(x_tr, y_tr)"
   ]
  },
  {
   "cell_type": "code",
   "execution_count": 369,
   "metadata": {},
   "outputs": [
    {
     "data": {
      "text/plain": [
       "0.7654600301659126"
      ]
     },
     "execution_count": 369,
     "metadata": {},
     "output_type": "execute_result"
    }
   ],
   "source": [
    "#check the best score opbtained after running the model on multiple folds and candidates\n",
    "gbm.best_score_"
   ]
  },
  {
   "cell_type": "code",
   "execution_count": 370,
   "metadata": {},
   "outputs": [
    {
     "data": {
      "text/plain": [
       "{'n_estimators': 100}"
      ]
     },
     "execution_count": 370,
     "metadata": {},
     "output_type": "execute_result"
    }
   ],
   "source": [
    "#check which parameters gives us the best result\n",
    "gbm.best_params_"
   ]
  },
  {
   "cell_type": "code",
   "execution_count": 371,
   "metadata": {},
   "outputs": [],
   "source": [
    "pred_gbm = gbm.predict(x_ts)"
   ]
  },
  {
   "cell_type": "code",
   "execution_count": 372,
   "metadata": {},
   "outputs": [
    {
     "name": "stdout",
     "output_type": "stream",
     "text": [
      "Accuracy =  0.8153846153846154\n",
      "MCC =  0.6170300809990545\n",
      "Kappa =  0.6157635467980296\n"
     ]
    }
   ],
   "source": [
    "# calculate statistics\n",
    "print(\"Accuracy = \", accuracy_score(y_ts, pred_gbm))\n",
    "print(\"MCC = \", matthews_corrcoef(y_ts, pred_gbm))\n",
    "print(\"Kappa = \", cohen_kappa_score(y_ts, pred_gbm))"
   ]
  },
  {
   "cell_type": "markdown",
   "metadata": {},
   "source": [
    "#### consensus model"
   ]
  },
  {
   "cell_type": "code",
   "execution_count": 373,
   "metadata": {},
   "outputs": [],
   "source": [
    "#the consensus model is used to average the results between deifferent models and produce a set of results with lesser disparities\n",
    "#Here, we take the average of results and declare it as permeable (1) if the average is greater than or equal to 0.5\n",
    "#or non permeable (0) if the average is smaller than 0.5\n",
    "pred_c = 1 * (((pred_rf + pred_svm + pred_gbm) / 3) >= 0.5)"
   ]
  },
  {
   "cell_type": "code",
   "execution_count": 374,
   "metadata": {},
   "outputs": [
    {
     "data": {
      "text/plain": [
       "array([0, 1, 1, 1, 1, 1, 1, 1, 0, 0, 1, 0, 1, 0, 1, 1, 1, 1, 1, 1, 1, 1,\n",
       "       1, 1, 1, 1, 0, 1, 0, 0, 1, 0, 1, 0, 1, 0, 0, 0, 1, 1, 0, 1, 1, 0,\n",
       "       1, 0, 1, 0, 1, 1, 0, 1, 0, 0, 0, 0, 0, 1, 0, 1, 1, 1, 0, 1, 1])"
      ]
     },
     "execution_count": 374,
     "metadata": {},
     "output_type": "execute_result"
    }
   ],
   "source": [
    "pred_c"
   ]
  },
  {
   "cell_type": "code",
   "execution_count": 375,
   "metadata": {},
   "outputs": [
    {
     "name": "stdout",
     "output_type": "stream",
     "text": [
      "Accuracy =  0.7846153846153846\n",
      "MCC =  0.5528589525751528\n",
      "Kappa =  0.5517241379310345\n"
     ]
    }
   ],
   "source": [
    "# calc statistics\n",
    "print(\"Accuracy = \", accuracy_score(y_ts, pred_c))\n",
    "print(\"MCC = \", matthews_corrcoef(y_ts, pred_c))\n",
    "print(\"Kappa = \", cohen_kappa_score(y_ts, pred_c))"
   ]
  },
  {
   "cell_type": "markdown",
   "metadata": {
    "collapsed": true
   },
   "source": [
    "### Add some other descriptors with morgan fingerprinnts and look at the model performance"
   ]
  },
  {
   "cell_type": "code",
   "execution_count": 376,
   "metadata": {},
   "outputs": [],
   "source": [
    "#now we give our model some more details about our chemical compound other than it's morgan fingerprint,\n",
    "#to study the change in the performance of our model+*"
   ]
  },
  {
   "cell_type": "code",
   "execution_count": 377,
   "metadata": {},
   "outputs": [],
   "source": [
    "# calculate some more relevant descriptors\n",
    "descr = []\n",
    "for m in mols:\n",
    "    descr.append([Descriptors.MolLogP(m),\n",
    "                  Descriptors.TPSA(m),\n",
    "                  Descriptors.NHOHCount(m),\n",
    "                  Descriptors.NOCount(m),\n",
    "                  Descriptors.NumHAcceptors(m),\n",
    "                  Descriptors.NumHDonors(m),\n",
    "                  Descriptors.NumRotatableBonds(m),\n",
    "                  Descriptors.NumHeteroatoms(m),\n",
    "                  Descriptors.FractionCSP3(m)])\n",
    "descr = np.asarray(descr)"
   ]
  },
  {
   "cell_type": "code",
   "execution_count": 378,
   "metadata": {},
   "outputs": [
    {
     "data": {
      "text/plain": [
       "(321, 9)"
      ]
     },
     "execution_count": 378,
     "metadata": {},
     "output_type": "execute_result"
    }
   ],
   "source": [
    "descr.shape"
   ]
  },
  {
   "cell_type": "code",
   "execution_count": 379,
   "metadata": {},
   "outputs": [],
   "source": [
    "# add these descriptors to morgan fingerprints\n",
    "x = np.concatenate((x, descr), axis=1)"
   ]
  },
  {
   "cell_type": "code",
   "execution_count": 380,
   "metadata": {},
   "outputs": [
    {
     "data": {
      "text/plain": [
       "(321, 2057)"
      ]
     },
     "execution_count": 380,
     "metadata": {},
     "output_type": "execute_result"
    }
   ],
   "source": [
    "x.shape"
   ]
  },
  {
   "cell_type": "code",
   "execution_count": 381,
   "metadata": {},
   "outputs": [],
   "source": [
    "# randomly select 20% of compounds as test set\n",
    "x_tr, x_ts, y_tr, y_ts = train_test_split(x, y, test_size=0.20, random_state=seed)"
   ]
  },
  {
   "cell_type": "code",
   "execution_count": 382,
   "metadata": {},
   "outputs": [],
   "source": [
    "#scale the new training data\n",
    "scale = StandardScaler().fit(x_tr)\n",
    "x_tr = scale.transform(x_tr)"
   ]
  },
  {
   "cell_type": "code",
   "execution_count": 383,
   "metadata": {},
   "outputs": [],
   "source": [
    "# create grid search dictionary\n",
    "param_grid = {\"max_features\": [x_tr.shape[1] // 10, x_tr.shape[1] // 7, x_tr.shape[1] // 5, x_tr.shape[1] // 3], \n",
    "              \"n_estimators\": [100, 250, 500]}"
   ]
  },
  {
   "cell_type": "code",
   "execution_count": 384,
   "metadata": {},
   "outputs": [],
   "source": [
    "# setup model building\n",
    "m = GridSearchCV(RandomForestClassifier(), param_grid, n_jobs=2, cv=cv, verbose=1)"
   ]
  },
  {
   "cell_type": "code",
   "execution_count": 385,
   "metadata": {},
   "outputs": [
    {
     "name": "stdout",
     "output_type": "stream",
     "text": [
      "Fitting 5 folds for each of 12 candidates, totalling 60 fits\n"
     ]
    },
    {
     "data": {
      "text/plain": [
       "GridSearchCV(cv=StratifiedKFold(n_splits=5, random_state=None, shuffle=False),\n",
       "             estimator=RandomForestClassifier(), n_jobs=2,\n",
       "             param_grid={'max_features': [205, 293, 411, 685],\n",
       "                         'n_estimators': [100, 250, 500]},\n",
       "             verbose=1)"
      ]
     },
     "execution_count": 385,
     "metadata": {},
     "output_type": "execute_result"
    }
   ],
   "source": [
    "# run model building\n",
    "m.fit(x_tr, y_tr)"
   ]
  },
  {
   "cell_type": "code",
   "execution_count": 386,
   "metadata": {},
   "outputs": [
    {
     "data": {
      "text/plain": [
       "0.7890648567119155"
      ]
     },
     "execution_count": 386,
     "metadata": {},
     "output_type": "execute_result"
    }
   ],
   "source": [
    "#check the best score opbtained after running the model on multiple folds and candidates\n",
    "m.best_score_"
   ]
  },
  {
   "cell_type": "code",
   "execution_count": 387,
   "metadata": {},
   "outputs": [],
   "source": [
    "# scale descriptors of the test set compounds\n",
    "x_ts = scale.transform(x_ts)"
   ]
  },
  {
   "cell_type": "code",
   "execution_count": 388,
   "metadata": {},
   "outputs": [],
   "source": [
    "# predict logBB class for the test set compounds\n",
    "pred = m.predict(x_ts)"
   ]
  },
  {
   "cell_type": "code",
   "execution_count": 389,
   "metadata": {},
   "outputs": [
    {
     "data": {
      "text/plain": [
       "array([0, 1, 0, 1, 1, 1, 1, 1, 0, 0, 1, 0, 0, 0, 1, 0, 1, 1, 1, 1, 1, 1,\n",
       "       1, 1, 1, 1, 0, 1, 1, 0, 1, 0, 1, 0, 1, 0, 0, 0, 1, 1, 0, 1, 1, 0,\n",
       "       1, 1, 1, 0, 1, 1, 0, 1, 0, 1, 0, 0, 0, 1, 0, 1, 1, 1, 0, 1, 1])"
      ]
     },
     "execution_count": 389,
     "metadata": {},
     "output_type": "execute_result"
    }
   ],
   "source": [
    "pred"
   ]
  },
  {
   "cell_type": "code",
   "execution_count": 390,
   "metadata": {},
   "outputs": [
    {
     "name": "stdout",
     "output_type": "stream",
     "text": [
      "Accuracy =  0.8461538461538461\n",
      "MCC =  0.6812012094229563\n",
      "Kappa =  0.6798029556650247\n"
     ]
    }
   ],
   "source": [
    "# calc statistics\n",
    "print(\"Accuracy = \", accuracy_score(y_ts, pred))\n",
    "print(\"MCC = \", matthews_corrcoef(y_ts, pred))\n",
    "print(\"Kappa = \", cohen_kappa_score(y_ts, pred))"
   ]
  },
  {
   "cell_type": "code",
   "execution_count": 391,
   "metadata": {},
   "outputs": [],
   "source": [
    "# estimate applicability domain and calc stat\n",
    "pred_prob = m.predict_proba(x_ts)"
   ]
  },
  {
   "cell_type": "code",
   "execution_count": 392,
   "metadata": {},
   "outputs": [],
   "source": [
    "da = np.amax(pred_prob, axis=1) > threshold"
   ]
  },
  {
   "cell_type": "code",
   "execution_count": 393,
   "metadata": {},
   "outputs": [
    {
     "name": "stdout",
     "output_type": "stream",
     "text": [
      "Accuracy =  0.9696969696969697\n",
      "MCC =  0.9354143466934854\n",
      "Kappa =  0.9333333333333333\n",
      "Coverage =  0.5076923076923077\n"
     ]
    }
   ],
   "source": [
    "print(\"Accuracy = \", accuracy_score(np.asarray(y_ts)[da], pred[da]))\n",
    "print(\"MCC = \", matthews_corrcoef(np.asarray(y_ts)[da], pred[da]))\n",
    "print(\"Kappa = \", cohen_kappa_score(np.asarray(y_ts)[da], pred[da]))\n",
    "print(\"Coverage = \", sum(da) / len(da))"
   ]
  },
  {
   "cell_type": "markdown",
   "metadata": {},
   "source": [
    "The model has a better accuracy. Added descritors improved the model predictivity."
   ]
  },
  {
   "cell_type": "markdown",
   "metadata": {
    "collapsed": true
   },
   "source": [
    "#### Let's try to analyse which variables are the most important in the model"
   ]
  },
  {
   "cell_type": "code",
   "execution_count": 394,
   "metadata": {},
   "outputs": [
    {
     "data": {
      "text/plain": [
       "RandomForestClassifier(max_features=293, n_estimators=250, random_state=42)"
      ]
     },
     "execution_count": 394,
     "metadata": {},
     "output_type": "execute_result"
    }
   ],
   "source": [
    "# rebuild RF model manually using best parameters to be able to extract additional information from the model\n",
    "rf = RandomForestClassifier(n_estimators=m.best_params_[\"n_estimators\"], \n",
    "                           max_features=m.best_params_[\"max_features\"],\n",
    "                           random_state=seed)\n",
    "rf.fit(x_tr, y_tr)"
   ]
  },
  {
   "cell_type": "code",
   "execution_count": 395,
   "metadata": {},
   "outputs": [],
   "source": [
    "#to find out the importance of each feature sepeartely and give a numerical value to it\n",
    "imp = rf.feature_importances_"
   ]
  },
  {
   "cell_type": "code",
   "execution_count": 396,
   "metadata": {},
   "outputs": [
    {
     "data": {
      "text/plain": [
       "array([0.        , 0.00254217, 0.00036993, ..., 0.00855873, 0.03689803,\n",
       "       0.02239462])"
      ]
     },
     "execution_count": 396,
     "metadata": {},
     "output_type": "execute_result"
    }
   ],
   "source": [
    "imp"
   ]
  },
  {
   "cell_type": "code",
   "execution_count": 397,
   "metadata": {},
   "outputs": [
    {
     "name": "stdout",
     "output_type": "stream",
     "text": [
      "Feature ranking:\n",
      "1. feature 2049 (0.117948)\n",
      "2. feature 2051 (0.059470)\n",
      "3. feature 2048 (0.046727)\n",
      "4. feature 2055 (0.036898)\n",
      "5. feature 650 (0.034344)\n",
      "6. feature 2052 (0.030104)\n",
      "7. feature 2056 (0.022395)\n",
      "8. feature 2050 (0.018988)\n",
      "9. feature 2053 (0.015880)\n",
      "10. feature 807 (0.013109)\n"
     ]
    }
   ],
   "source": [
    "indices = np.argsort(imp)[::-1]\n",
    "\n",
    "print(\"Feature ranking:\")\n",
    "\n",
    "# print top 10 features\n",
    "for i in range(10):\n",
    "    print(\"%d. feature %d (%f)\" % (i + 1, indices[i], imp[indices[i]]))"
   ]
  },
  {
   "cell_type": "markdown",
   "metadata": {},
   "source": [
    "2049 - MolLogP  \n",
    "2050 - TPSA(m)  \n",
    "2051 - NHOHCount  \n",
    "2052 - NOCount \n",
    "2053 - NumHAcceptors  \n",
    "2054 - NumHDonors  \n",
    "2055 - NumRotatableBonds  \n",
    "2056 - NumHeteroatoms  \n",
    "2057 - FractionCSP3\n",
    "\n",
    "features with numbers 1-2048 are different Morgan fingerprints  "
   ]
  }
 ],
 "metadata": {
  "kernelspec": {
   "display_name": "Python 3",
   "language": "python",
   "name": "python3"
  },
  "language_info": {
   "codemirror_mode": {
    "name": "ipython",
    "version": 3
   },
   "file_extension": ".py",
   "mimetype": "text/x-python",
   "name": "python",
   "nbconvert_exporter": "python",
   "pygments_lexer": "ipython3",
   "version": "3.6.13"
  }
 },
 "nbformat": 4,
 "nbformat_minor": 1
}
